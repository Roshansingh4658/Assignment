{
 "cells": [
  {
   "cell_type": "code",
   "execution_count": 1,
   "id": "6dc1f8b2",
   "metadata": {},
   "outputs": [
    {
     "name": "stdout",
     "output_type": "stream",
     "text": [
      "1\n",
      "2\n",
      "3\n",
      "4\n",
      "5\n",
      "6\n",
      "7\n",
      "8\n",
      "9\n",
      "10\n"
     ]
    }
   ],
   "source": [
    "# Program to print numbers from 1 to 10 using a for loop\n",
    "\n",
    "for num in range(1, 11):\n",
    "    print(num)\n"
   ]
  },
  {
   "cell_type": "code",
   "execution_count": null,
   "id": "90d6fc89",
   "metadata": {},
   "outputs": [],
   "source": [
    "# Program to calculate the sum of numbers in a list using a for loop\n",
    "\n",
    "def calculate_sum(numbers):\n",
    "    total_sum = 0\n",
    "    for num in numbers:\n",
    "        total_sum += num\n",
    "    return total_sum\n",
    "\n",
    "# Input: Get a list of numbers from the user\n",
    "numbers = list(map(int, input(\"Enter a list of numbers separated by spaces: \").split()))\n",
    "\n",
    "# Calculate and print the sum of the numbers\n",
    "result = calculate_sum(numbers)\n",
    "print(f\"The sum of the numbers is: {result}\")\n"
   ]
  },
  {
   "cell_type": "code",
   "execution_count": null,
   "id": "85ced30d",
   "metadata": {},
   "outputs": [],
   "source": [
    "# Program to print characters of a string in reverse order using a for loop\n",
    "\n",
    "def reverse_string(input_string):\n",
    "    reversed_string = \"\"\n",
    "    for char in reversed(input_string):\n",
    "        reversed_string += char\n",
    "    return reversed_string\n",
    "\n",
    "# Input: Get a string from the user\n",
    "input_string = input(\"Enter a string: \")\n",
    "\n",
    "# Reverse and print the characters of the string\n",
    "result = reverse_string(input_string)\n",
    "print(f\"The string in reverse order is: {result}\")\n"
   ]
  },
  {
   "cell_type": "code",
   "execution_count": null,
   "id": "20cd189d",
   "metadata": {},
   "outputs": [],
   "source": [
    "# Program to find the factorial of a given number using a for loop\n",
    "\n",
    "def calculate_factorial(n):\n",
    "    factorial = 1\n",
    "    for i in range(1, n + 1):\n",
    "        factorial *= i\n",
    "    return factorial\n",
    "\n",
    "# Input: Get the number from the user\n",
    "number = int(input(\"Enter a number to calculate its factorial: \"))\n",
    "\n",
    "# Calculate and print the factorial\n",
    "result = calculate_factorial(number)\n",
    "print(f\"The factorial of {number} is: {result}\")\n"
   ]
  },
  {
   "cell_type": "code",
   "execution_count": null,
   "id": "159a396c",
   "metadata": {},
   "outputs": [],
   "source": [
    "# Program to print the multiplication table of a given number using a for loop\n",
    "\n",
    "def multiplication_table(number):\n",
    "    print(f\"Multiplication table for {number}:\")\n",
    "    for i in range(1, 11):\n",
    "        result = number * i\n",
    "        print(f\"{number} x {i} = {result}\")\n",
    "\n",
    "# Input: Get the number from the user\n",
    "number = int(input(\"Enter a number to get its multiplication table: \"))\n",
    "\n",
    "# Print the multiplication table\n",
    "multiplication_table(number)\n"
   ]
  },
  {
   "cell_type": "code",
   "execution_count": null,
   "id": "3a96bf3b",
   "metadata": {},
   "outputs": [],
   "source": [
    "# Program to count the number of even and odd numbers in a list using a for loop\n",
    "\n",
    "def count_even_odd(numbers):\n",
    "    even_count = 0\n",
    "    odd_count = 0\n",
    "\n",
    "    for num in numbers:\n",
    "        if num % 2 == 0:\n",
    "            even_count += 1\n",
    "        else:\n",
    "            odd_count += 1\n",
    "\n",
    "    return even_count, odd_count\n",
    "\n",
    "# Input: Get a list of numbers from the user\n",
    "numbers = list(map(int, input(\"Enter a list of numbers separated by spaces: \").split()))\n",
    "\n",
    "# Calculate and print the count of even and odd numbers\n",
    "even_count, odd_count = count_even_odd(numbers)\n",
    "print(f\"Number of even numbers: {even_count}\")\n",
    "print(f\"Number of odd numbers: {odd_count}\")\n"
   ]
  },
  {
   "cell_type": "code",
   "execution_count": 1,
   "id": "aab602ca",
   "metadata": {},
   "outputs": [
    {
     "name": "stdout",
     "output_type": "stream",
     "text": [
      "The square of 1 is: 1\n",
      "The square of 2 is: 4\n",
      "The square of 3 is: 9\n",
      "The square of 4 is: 16\n",
      "The square of 5 is: 25\n"
     ]
    }
   ],
   "source": [
    "# Program to print squares of numbers from 1 to 5 using a for loop\n",
    "\n",
    "for num in range(1, 6):\n",
    "    square = num ** 2\n",
    "    print(f\"The square of {num} is: {square}\")\n"
   ]
  },
  {
   "cell_type": "code",
   "execution_count": null,
   "id": "10da808c",
   "metadata": {},
   "outputs": [],
   "source": [
    "def find_string_length(input_string):\n",
    "    count = 0\n",
    "    for _ in input_string:\n",
    "        count += 1\n",
    "    return count\n",
    "\n",
    "# Example usage:\n",
    "user_input = input(\"Enter a string: \")\n",
    "length = find_string_length(user_input)\n",
    "print(\"Length of the string:\", length)\n"
   ]
  },
  {
   "cell_type": "code",
   "execution_count": null,
   "id": "194ce5d5",
   "metadata": {},
   "outputs": [],
   "source": [
    "def calculate_average(numbers):\n",
    "    total = 0\n",
    "    count = 0\n",
    "\n",
    "    for num in numbers:\n",
    "        total += num\n",
    "        count += 1\n",
    "\n",
    "    if count == 0:\n",
    "        return 0  # Avoid division by zero if the list is empty\n",
    "    else:\n",
    "        average = total / count\n",
    "        return average\n",
    "\n",
    "# Example usage:\n",
    "numbers_list = [float(x) for x in input(\"Enter a list of numbers separated by spaces: \").split()]\n",
    "result = calculate_average(numbers_list)\n",
    "print(\"Average:\", result)\n"
   ]
  },
  {
   "cell_type": "code",
   "execution_count": null,
   "id": "233682f6",
   "metadata": {},
   "outputs": [],
   "source": [
    "def generate_fibonacci(n):\n",
    "    fibonacci_numbers = [0, 1]\n",
    "\n",
    "    for i in range(2, n):\n",
    "        next_fibonacci = fibonacci_numbers[-1] + fibonacci_numbers[-2]\n",
    "        fibonacci_numbers.append(next_fibonacci)\n",
    "\n",
    "    return fibonacci_numbers\n",
    "\n",
    "# Example usage:\n",
    "n = int(input(\"Enter the number of Fibonacci numbers to generate: \"))\n",
    "\n",
    "if n <= 0:\n",
    "    print(\"Please enter a positive integer.\")\n",
    "else:\n",
    "    fibonacci_sequence = generate_fibonacci(n)\n",
    "    print(f\"The first {n} Fibonacci numbers are: {fibonacci_sequence}\")\n"
   ]
  },
  {
   "cell_type": "code",
   "execution_count": null,
   "id": "b19a8cee",
   "metadata": {},
   "outputs": [],
   "source": [
    "def has_duplicates(lst):\n",
    "    seen = set()\n",
    "\n",
    "    for element in lst:\n",
    "        if element in seen:\n",
    "            return True\n",
    "        seen.add(element)\n",
    "\n",
    "    return False\n",
    "\n",
    "# Example usage:\n",
    "user_input = input(\"Enter a list of elements separated by spaces: \")\n",
    "input_list = user_input.split()\n",
    "\n",
    "if has_duplicates(input_list):\n",
    "    print(\"The list contains duplicates.\")\n",
    "else:\n",
    "    print(\"The list does not contain duplicates.\")\n"
   ]
  },
  {
   "cell_type": "code",
   "execution_count": null,
   "id": "5cb83a72",
   "metadata": {},
   "outputs": [],
   "source": [
    "def is_prime(num):\n",
    "    if num < 2:\n",
    "        return False\n",
    "    for i in range(2, int(num**0.5) + 1):\n",
    "        if num % i == 0:\n",
    "            return False\n",
    "    return True\n",
    "\n",
    "def print_primes_in_range(start, end):\n",
    "    print(f\"Prime numbers in the range {start} to {end} are:\")\n",
    "    for number in range(start, end + 1):\n",
    "        if is_prime(number):\n",
    "            print(number, end=\" \")\n",
    "\n",
    "# Example usage:\n",
    "start_range = int(input(\"Enter the starting range: \"))\n",
    "end_range = int(input(\"Enter the ending range: \"))\n",
    "\n",
    "print_primes_in_range(start_range, end_range)\n"
   ]
  },
  {
   "cell_type": "code",
   "execution_count": null,
   "id": "e75b8ee3",
   "metadata": {},
   "outputs": [],
   "source": [
    "def count_vowels(input_string):\n",
    "    vowels = \"aeiouAEIOU\"\n",
    "    vowel_count = 0\n",
    "\n",
    "    for char in input_string:\n",
    "        if char in vowels:\n",
    "            vowel_count += 1\n",
    "\n",
    "    return vowel_count\n",
    "\n",
    "# Example usage:\n",
    "user_input = input(\"Enter a string: \")\n",
    "result = count_vowels(user_input)\n",
    "print(f\"Number of vowels in the string: {result}\")\n"
   ]
  },
  {
   "cell_type": "code",
   "execution_count": 1,
   "id": "1a6677fb",
   "metadata": {},
   "outputs": [
    {
     "name": "stdout",
     "output_type": "stream",
     "text": [
      "The maximum element in the 2D list is: 9\n"
     ]
    }
   ],
   "source": [
    "def find_max_element_2d(matrix):\n",
    "    if not matrix:\n",
    "        return None  # Return None if the matrix is empty\n",
    "\n",
    "    max_element = matrix[0][0]\n",
    "\n",
    "    for row in matrix:\n",
    "        for element in row:\n",
    "            if element > max_element:\n",
    "                max_element = element\n",
    "\n",
    "    return max_element\n",
    "\n",
    "# Example usage:\n",
    "# You can replace this example matrix with your own 2D list\n",
    "matrix = [\n",
    "    [3, 8, 2],\n",
    "    [5, 1, 7],\n",
    "    [9, 4, 6]\n",
    "]\n",
    "\n",
    "max_value = find_max_element_2d(matrix)\n",
    "\n",
    "if max_value is not None:\n",
    "    print(f\"The maximum element in the 2D list is: {max_value}\")\n",
    "else:\n",
    "    print(\"The 2D list is empty.\")\n"
   ]
  },
  {
   "cell_type": "code",
   "execution_count": null,
   "id": "9dd78561",
   "metadata": {},
   "outputs": [],
   "source": [
    "def remove_element(lst, target):\n",
    "    # Use a list comprehension to create a new list without the target element\n",
    "    new_list = [element for element in lst if element != target]\n",
    "    return new_list\n",
    "\n",
    "# Example usage:\n",
    "original_list = [1, 2, 3, 4, 2, 5, 2, 6]\n",
    "target_element = int(input(\"Enter the element to remove: \"))\n",
    "\n",
    "result_list = remove_element(original_list, target_element)\n",
    "\n",
    "if result_list != original_list:\n",
    "    print(f\"Original list after removing {target_element}: {result_list}\")\n",
    "else:\n",
    "    print(f\"{target_element} not found in the list.\")\n"
   ]
  },
  {
   "cell_type": "code",
   "execution_count": 1,
   "id": "489c82aa",
   "metadata": {},
   "outputs": [
    {
     "name": "stdout",
     "output_type": "stream",
     "text": [
      "Multiplication table for 1:\n",
      "1 x 1 = 1\n",
      "1 x 2 = 2\n",
      "1 x 3 = 3\n",
      "1 x 4 = 4\n",
      "1 x 5 = 5\n",
      "1 x 6 = 6\n",
      "1 x 7 = 7\n",
      "1 x 8 = 8\n",
      "1 x 9 = 9\n",
      "1 x 10 = 10\n",
      "\n",
      "Multiplication table for 2:\n",
      "2 x 1 = 2\n",
      "2 x 2 = 4\n",
      "2 x 3 = 6\n",
      "2 x 4 = 8\n",
      "2 x 5 = 10\n",
      "2 x 6 = 12\n",
      "2 x 7 = 14\n",
      "2 x 8 = 16\n",
      "2 x 9 = 18\n",
      "2 x 10 = 20\n",
      "\n",
      "Multiplication table for 3:\n",
      "3 x 1 = 3\n",
      "3 x 2 = 6\n",
      "3 x 3 = 9\n",
      "3 x 4 = 12\n",
      "3 x 5 = 15\n",
      "3 x 6 = 18\n",
      "3 x 7 = 21\n",
      "3 x 8 = 24\n",
      "3 x 9 = 27\n",
      "3 x 10 = 30\n",
      "\n",
      "Multiplication table for 4:\n",
      "4 x 1 = 4\n",
      "4 x 2 = 8\n",
      "4 x 3 = 12\n",
      "4 x 4 = 16\n",
      "4 x 5 = 20\n",
      "4 x 6 = 24\n",
      "4 x 7 = 28\n",
      "4 x 8 = 32\n",
      "4 x 9 = 36\n",
      "4 x 10 = 40\n",
      "\n",
      "Multiplication table for 5:\n",
      "5 x 1 = 5\n",
      "5 x 2 = 10\n",
      "5 x 3 = 15\n",
      "5 x 4 = 20\n",
      "5 x 5 = 25\n",
      "5 x 6 = 30\n",
      "5 x 7 = 35\n",
      "5 x 8 = 40\n",
      "5 x 9 = 45\n",
      "5 x 10 = 50\n",
      "\n"
     ]
    }
   ],
   "source": [
    "def generate_multiplication_table():\n",
    "    for i in range(1, 6):  # Numbers from 1 to 5\n",
    "        print(f\"Multiplication table for {i}:\")\n",
    "        for j in range(1, 11):  # Multiplying by numbers 1 to 10\n",
    "            result = i * j\n",
    "            print(f\"{i} x {j} = {result}\")\n",
    "        print()  # Empty line to separate tables\n",
    "\n",
    "# Example usage:\n",
    "generate_multiplication_table()\n"
   ]
  },
  {
   "cell_type": "code",
   "execution_count": 2,
   "id": "cecabf09",
   "metadata": {},
   "outputs": [
    {
     "name": "stdout",
     "output_type": "stream",
     "text": [
      "Fahrenheit Temperatures: [32, 68, 104, 212]\n",
      "Celsius Equivalent: [0.0, 20.0, 40.0, 100.0]\n"
     ]
    }
   ],
   "source": [
    "def fahrenheit_to_celsius(fahrenheit_temps):\n",
    "    celsius_temps = []\n",
    "\n",
    "    for fahrenheit in fahrenheit_temps:\n",
    "        celsius = (fahrenheit - 32) * 5/9\n",
    "        celsius_temps.append(celsius)\n",
    "\n",
    "    return celsius_temps\n",
    "\n",
    "# Example usage:\n",
    "fahrenheit_list = [32, 68, 104, 212]\n",
    "celsius_result = fahrenheit_to_celsius(fahrenheit_list)\n",
    "\n",
    "print(\"Fahrenheit Temperatures:\", fahrenheit_list)\n",
    "print(\"Celsius Equivalent:\", celsius_result)\n"
   ]
  },
  {
   "cell_type": "code",
   "execution_count": 3,
   "id": "d8a27b39",
   "metadata": {},
   "outputs": [
    {
     "name": "stdout",
     "output_type": "stream",
     "text": [
      "Common elements: [3, 5]\n"
     ]
    }
   ],
   "source": [
    "def find_common_elements(list1, list2):\n",
    "    common_elements = []\n",
    "\n",
    "    for element1 in list1:\n",
    "        for element2 in list2:\n",
    "            if element1 == element2:\n",
    "                common_elements.append(element1)\n",
    "\n",
    "    return common_elements\n",
    "\n",
    "# Example usage:\n",
    "list1 = [1, 2, 3, 4, 5]\n",
    "list2 = [3, 5, 7, 9, 11]\n",
    "\n",
    "common_elements_result = find_common_elements(list1, list2)\n",
    "\n",
    "if common_elements_result:\n",
    "    print(\"Common elements:\", common_elements_result)\n",
    "else:\n",
    "    print(\"No common elements found.\")\n"
   ]
  },
  {
   "cell_type": "code",
   "execution_count": null,
   "id": "5704507e",
   "metadata": {},
   "outputs": [],
   "source": [
    "def print_rightangled_triangles(rows):\n",
    "    for i in range(1, rows + 1):\n",
    "        for j in range(1, i + 1):\n",
    "            print('*', end=' ')\n",
    "        print()\n",
    "\n",
    "# Example usage:\n",
    "num_rows = int(input(\"Enter the number of rows for the right-angled triangles: \"))\n",
    "print_rightangled_triangles(num_rows)\n"
   ]
  },
  {
   "cell_type": "code",
   "execution_count": 1,
   "id": "a8a1be40",
   "metadata": {},
   "outputs": [
    {
     "name": "stdout",
     "output_type": "stream",
     "text": [
      "Enter the first number: 1\n",
      "Enter the second number:43\n",
      "The GCD of 1 and 43 is: 1\n"
     ]
    }
   ],
   "source": [
    "def find_gcd(num1, num2):\n",
    "    # Ensure num1 is greater than or equal to num2\n",
    "    if num1 < num2:\n",
    "        num1, num2 = num2, num1\n",
    "\n",
    "    for i in range(num2, 0, -1):\n",
    "        if num1 % i == 0 and num2 % i == 0:\n",
    "            return i\n",
    "\n",
    "    return 1  # Default GCD is 1 if no common divisor is found\n",
    "\n",
    "# Example usage:\n",
    "number1 = int(input(\"Enter the first number: \"))\n",
    "number2 = int(input(\"Enter the second number:\"))\n",
    "\n",
    "result_gcd = find_gcd(number1, number2)\n",
    "\n",
    "print(f\"The GCD of {number1} and {number2} is: {result_gcd}\")\n"
   ]
  },
  {
   "cell_type": "code",
   "execution_count": 2,
   "id": "d1b89b11",
   "metadata": {},
   "outputs": [
    {
     "name": "stdout",
     "output_type": "stream",
     "text": [
      "Original list: [123, 45, 6789, 321]\n",
      "Sum of digits for each number: [6, 9, 30, 6]\n"
     ]
    }
   ],
   "source": [
    "def sum_of_digits(num):\n",
    "    return sum(int(digit) for digit in str(num))\n",
    "\n",
    "# Example usage:\n",
    "numbers_list = [123, 45, 6789, 321]\n",
    "\n",
    "sum_of_digits_list = [sum_of_digits(num) for num in numbers_list]\n",
    "\n",
    "print(f\"Original list: {numbers_list}\")\n",
    "print(f\"Sum of digits for each number: {sum_of_digits_list}\")\n"
   ]
  },
  {
   "cell_type": "code",
   "execution_count": 3,
   "id": "c1160f5a",
   "metadata": {},
   "outputs": [
    {
     "name": "stdout",
     "output_type": "stream",
     "text": [
      "Enter a number: 5\n",
      "Prime factors of 5: [5]\n"
     ]
    }
   ],
   "source": [
    "def find_prime_factors(number):\n",
    "    factors = [factor for factor in range(2, number + 1) if number % factor == 0 and all(factor % i != 0 for i in range(2, int(factor**0.5) + 1))]\n",
    "    return factors\n",
    "\n",
    "# Example usage:\n",
    "input_number = int(input(\"Enter a number: \"))\n",
    "prime_factors_list = find_prime_factors(input_number)\n",
    "\n",
    "print(f\"Prime factors of {input_number}: {prime_factors_list}\")\n"
   ]
  },
  {
   "cell_type": "code",
   "execution_count": 1,
   "id": "78bd9bf4",
   "metadata": {},
   "outputs": [
    {
     "name": "stdout",
     "output_type": "stream",
     "text": [
      "Original list: [1, 2, 3, 4, 2, 5, 6, 1, 7]\n",
      "Unique elements: [3, 4, 5, 6, 7]\n"
     ]
    }
   ],
   "source": [
    "def extract_unique_elements(input_list):\n",
    "    unique_elements = [element for element in input_list if input_list.count(element) == 1]\n",
    "    return unique_elements\n",
    "\n",
    "# Example usage:\n",
    "original_list = [1, 2, 3, 4, 2, 5, 6, 1, 7]\n",
    "unique_elements_list = extract_unique_elements(original_list)\n",
    "\n",
    "print(f\"Original list: {original_list}\")\n",
    "print(f\"Unique elements: {unique_elements_list}\")\n"
   ]
  },
  {
   "cell_type": "code",
   "execution_count": 2,
   "id": "69075c1c",
   "metadata": {},
   "outputs": [
    {
     "name": "stdout",
     "output_type": "stream",
     "text": [
      "Enter the upper limit: 10\n",
      "Palindromic numbers up to 10: [0, 1, 2, 3, 4, 5, 6, 7, 8, 9]\n"
     ]
    }
   ],
   "source": [
    "def is_palindrome(number):\n",
    "    return str(number) == str(number)[::-1]\n",
    "\n",
    "def generate_palindromic_numbers(limit):\n",
    "    palindromic_numbers = [num for num in range(limit + 1) if is_palindrome(num)]\n",
    "    return palindromic_numbers\n",
    "\n",
    "# Example usage:\n",
    "upper_limit = int(input(\"Enter the upper limit: \"))\n",
    "palindromic_numbers_list = generate_palindromic_numbers(upper_limit)\n",
    "\n",
    "print(f\"Palindromic numbers up to {upper_limit}: {palindromic_numbers_list}\")\n"
   ]
  },
  {
   "cell_type": "code",
   "execution_count": 3,
   "id": "2ca3d9bc",
   "metadata": {},
   "outputs": [
    {
     "name": "stdout",
     "output_type": "stream",
     "text": [
      "Original Nested List: [1, [2, 3, [4, 5]], 6, [7, [8, 9]]]\n",
      "Flattened List: [1, 2, 3, [4, 5], 6, 7, [8, 9]]\n"
     ]
    }
   ],
   "source": [
    "def flatten_nested_list(nested_list):\n",
    "    flattened_list = [element for sublist in nested_list for element in (sublist if isinstance(sublist, list) else [sublist])]\n",
    "    return flattened_list\n",
    "\n",
    "# Example usage:\n",
    "nested_list = [1, [2, 3, [4, 5]], 6, [7, [8, 9]]]\n",
    "flattened_list = flatten_nested_list(nested_list)\n",
    "\n",
    "print(\"Original Nested List:\", nested_list)\n",
    "print(\"Flattened List:\", flattened_list)\n"
   ]
  },
  {
   "cell_type": "code",
   "execution_count": 4,
   "id": "f91d9661",
   "metadata": {},
   "outputs": [
    {
     "name": "stdout",
     "output_type": "stream",
     "text": [
      "Original List: [1, 2, 3, 4, 5, 6, 7, 8, 9]\n",
      "Sum of Even Numbers: 20\n",
      "Sum of Odd Numbers: 25\n"
     ]
    }
   ],
   "source": [
    "def sum_even_odd_numbers(input_list):\n",
    "    even_sum = sum(num for num in input_list if num % 2 == 0)\n",
    "    odd_sum = sum(num for num in input_list if num % 2 != 0)\n",
    "    return even_sum, odd_sum\n",
    "\n",
    "# Example usage:\n",
    "numbers_list = [1, 2, 3, 4, 5, 6, 7, 8, 9]\n",
    "even_sum, odd_sum = sum_even_odd_numbers(numbers_list)\n",
    "\n",
    "print(\"Original List:\", numbers_list)\n",
    "print(\"Sum of Even Numbers:\", even_sum)\n",
    "print(\"Sum of Odd Numbers:\", odd_sum)\n"
   ]
  },
  {
   "cell_type": "code",
   "execution_count": 5,
   "id": "02ba0c3b",
   "metadata": {},
   "outputs": [
    {
     "name": "stdout",
     "output_type": "stream",
     "text": [
      "Squares of Odd Numbers between 1 and 10: [1, 9, 25, 49, 81]\n"
     ]
    }
   ],
   "source": [
    "squares_of_odd_numbers = [num**2 for num in range(1, 11) if num % 2 != 0]\n",
    "\n",
    "print(\"Squares of Odd Numbers between 1 and 10:\", squares_of_odd_numbers)\n"
   ]
  },
  {
   "cell_type": "code",
   "execution_count": 6,
   "id": "fcaf031d",
   "metadata": {},
   "outputs": [
    {
     "name": "stdout",
     "output_type": "stream",
     "text": [
      "Combined Dictionary: {'name': 'Alice', 'age': 25, 'city': 'Wonderland'}\n"
     ]
    }
   ],
   "source": [
    "keys = ['name', 'age', 'city']\n",
    "values = ['Alice', 25, 'Wonderland']\n",
    "\n",
    "# Combine the lists into a dictionary using list comprehension\n",
    "combined_dict = {keys[i]: values[i] for i in range(min(len(keys), len(values)))}\n",
    "\n",
    "print(\"Combined Dictionary:\", combined_dict)\n"
   ]
  },
  {
   "cell_type": "code",
   "execution_count": 8,
   "id": "ca63b498",
   "metadata": {},
   "outputs": [
    {
     "name": "stdout",
     "output_type": "stream",
     "text": [
      "Enter a string: 10\n",
      "Original String: 10\n",
      "Vowels in the String: []\n"
     ]
    }
   ],
   "source": [
    "def extract_vowels(input_string):\n",
    "    vowels = [char for char in input_string if char.lower() in 'aeiou']\n",
    "    return vowels\n",
    "\n",
    "# Example usage:\n",
    "user_input = input(\"Enter a string: \")\n",
    "vowels_list = extract_vowels(user_input)\n",
    "\n",
    "print(\"Original String:\", user_input)\n",
    "print(\"Vowels in the String:\", vowels_list)\n"
   ]
  },
  {
   "cell_type": "code",
   "execution_count": 9,
   "id": "d0cd6c6d",
   "metadata": {},
   "outputs": [
    {
     "name": "stdout",
     "output_type": "stream",
     "text": [
      "Original List of Strings: ['abc123', '456def', '789xyz', '1a2b3c']\n",
      "List with Non-Numeric Characters Removed: ['123', '456', '789', '123']\n"
     ]
    }
   ],
   "source": [
    "def remove_non_numeric(strings_list):\n",
    "    result_list = [''.join(char for char in string if char.isnumeric()) for string in strings_list]\n",
    "    return result_list\n",
    "\n",
    "# Example usage:\n",
    "original_strings = ['abc123', '456def', '789xyz', '1a2b3c']\n",
    "numeric_only_list = remove_non_numeric(original_strings)\n",
    "\n",
    "print(\"Original List of Strings:\", original_strings)\n",
    "print(\"List with Non-Numeric Characters Removed:\", numeric_only_list)\n"
   ]
  },
  {
   "cell_type": "code",
   "execution_count": null,
   "id": "20b2d899",
   "metadata": {},
   "outputs": [],
   "source": [
    "def sieve_of_eratosthenes(limit):\n",
    "    sieve = [True] * (limit + 1)\n",
    "    sieve[0] = sieve[1] = False\n",
    "\n",
    "    for i in range(2, int(limit**0.5) + 1):\n",
    "        if sieve[i]:\n",
    "            sieve[i*i : limit + 1 : i] = [False] * len(range(i*i, limit + 1, i))\n",
    "\n",
    "    return [num for num in range(2, limit + 1) if sieve[num]]\n",
    "\n",
    "# Example usage:\n",
    "limit = int(input(\"Enter the upper limit for prime numbers: \"))\n",
    "prime_numbers_list = sieve_of_eratosthenes(limit)\n",
    "\n",
    "print(f\"Prime numbers up to {limit}: {prime_numbers_list}\")\n"
   ]
  },
  {
   "cell_type": "code",
   "execution_count": null,
   "id": "ae5ba6ad",
   "metadata": {},
   "outputs": [],
   "source": [
    "def generate_pythagorean_triplets(limit):\n",
    "    triplets = [(a, b, c) for a in range(1, limit + 1) for b in range(a, limit + 1) for c in range(b, limit + 1) if a**2 + b**2 == c**2]\n",
    "    return triplets\n",
    "\n",
    "# Example usage:\n",
    "upper_limit = int(input(\"Enter the upper limit for Pythagorean triplets: \"))\n",
    "pythagorean_triplets_list = generate_pythagorean_triplets(upper_limit)\n",
    "\n",
    "print(f\"Pythagorean triplets up to {upper_limit}: {pythagorean_triplets_list}\")\n"
   ]
  },
  {
   "cell_type": "code",
   "execution_count": 1,
   "id": "18b80810",
   "metadata": {},
   "outputs": [
    {
     "name": "stdout",
     "output_type": "stream",
     "text": [
      "All combinations of [1, 2, 3] and ['a', 'b', 'c'] are: [(1, 'a'), (1, 'b'), (1, 'c'), (2, 'a'), (2, 'b'), (2, 'c'), (3, 'a'), (3, 'b'), (3, 'c')]\n"
     ]
    }
   ],
   "source": [
    "def generate_combinations(list1, list2):\n",
    "    combinations = [(elem1, elem2) for elem1 in list1 for elem2 in list2]\n",
    "    return combinations\n",
    "\n",
    "# Example usage:\n",
    "list1 = [1, 2, 3]\n",
    "list2 = ['a', 'b', 'c']\n",
    "all_combinations = generate_combinations(list1, list2)\n",
    "\n",
    "print(f\"All combinations of {list1} and {list2} are: {all_combinations}\")\n"
   ]
  },
  {
   "cell_type": "code",
   "execution_count": 2,
   "id": "04a765f2",
   "metadata": {},
   "outputs": [
    {
     "name": "stdout",
     "output_type": "stream",
     "text": [
      "All combinations of [1, 2, 3] and ['a', 'b', 'c'] are: [(1, 'a'), (1, 'b'), (1, 'c'), (2, 'a'), (2, 'b'), (2, 'c'), (3, 'a'), (3, 'b'), (3, 'c')]\n"
     ]
    }
   ],
   "source": [
    "def generate_combinations(list1, list2):\n",
    "    combinations = [(elem1, elem2) for elem1 in list1 for elem2 in list2]\n",
    "    return combinations\n",
    "\n",
    "# Example usage:\n",
    "list1 = [1, 2, 3]\n",
    "list2 = ['a', 'b', 'c']\n",
    "all_combinations = generate_combinations(list1, list2)\n",
    "\n",
    "print(f\"All combinations of {list1} and {list2} are: {all_combinations}\")\n"
   ]
  },
  {
   "cell_type": "code",
   "execution_count": 3,
   "id": "7f93c896",
   "metadata": {},
   "outputs": [
    {
     "name": "stdout",
     "output_type": "stream",
     "text": [
      "List of Numbers: [1, 2, 3, 4, 5, 2, 3, 4, 5, 5]\n",
      "Mean: 3.4\n",
      "Median: 3.5\n",
      "Mode: 5\n"
     ]
    }
   ],
   "source": [
    "from statistics import mean, median, mode\n",
    "\n",
    "def calculate_statistics(numbers):\n",
    "    # Calculate mean, median, and mode using list comprehension\n",
    "    mean_value = mean(numbers)\n",
    "    median_value = median(numbers)\n",
    "    mode_value = mode(numbers)\n",
    "    \n",
    "    return mean_value, median_value, mode_value\n",
    "\n",
    "# Example usage:\n",
    "numbers_list = [1, 2, 3, 4, 5, 2, 3, 4, 5, 5]\n",
    "\n",
    "mean_result, median_result, mode_result = calculate_statistics(numbers_list)\n",
    "\n",
    "print(f\"List of Numbers: {numbers_list}\")\n",
    "print(f\"Mean: {mean_result}\")\n",
    "print(f\"Median: {median_result}\")\n",
    "print(f\"Mode: {mode_result}\")\n"
   ]
  },
  {
   "cell_type": "code",
   "execution_count": null,
   "id": "8caba468",
   "metadata": {},
   "outputs": [],
   "source": [
    "def generate_pascals_triangle(rows):\n",
    "    triangle = [[1] + [triangle[i-1][j-1] + triangle[i-1][j] for j in range(1, i)] + [1] for i in range(1, rows + 1)]\n",
    "    return triangle\n",
    "\n",
    "def print_pascals_triangle(triangle):\n",
    "    for row in triangle:\n",
    "        print(row)\n",
    "\n",
    "# Example usage:\n",
    "num_rows = int(input(\"Enter the number of rows for Pascal's triangle: \"))\n",
    "pascals_triangle = generate_pascals_triangle(num_rows)\n",
    "\n",
    "print(\"Pascal's Triangle:\")\n",
    "print_pascals_triangle(pascals_triangle)\n"
   ]
  },
  {
   "cell_type": "code",
   "execution_count": 1,
   "id": "f2c4a0b6",
   "metadata": {},
   "outputs": [
    {
     "name": "stdout",
     "output_type": "stream",
     "text": [
      "Factorials: [1, 2, 6, 24, 120]\n",
      "Sum of Digits of Factorials: [1, 2, 6, 6, 3]\n"
     ]
    }
   ],
   "source": [
    "from math import factorial\n",
    "\n",
    "def sum_of_digits(n):\n",
    "    return sum(int(digit) for digit in str(factorial(n)))\n",
    "\n",
    "# Example usage:\n",
    "factorials_sum_digits = [sum_of_digits(i) for i in range(1, 6)]\n",
    "\n",
    "print(\"Factorials:\", [factorial(i) for i in range(1, 6)])\n",
    "print(\"Sum of Digits of Factorials:\", factorials_sum_digits)\n"
   ]
  },
  {
   "cell_type": "code",
   "execution_count": null,
   "id": "aecda808",
   "metadata": {},
   "outputs": [],
   "source": [
    "def find_longest_word(sentence):\n",
    "    words = sentence.split()\n",
    "    longest_word = max(words, key=len)\n",
    "    return longest_word\n",
    "\n",
    "# Example usage:\n",
    "user_sentence = input(\"Enter a sentence: \")\n",
    "longest_word_result = find_longest_word(user_sentence)\n",
    "\n",
    "print(f\"The longest word in the sentence is: {longest_word_result}\")\n"
   ]
  },
  {
   "cell_type": "code",
   "execution_count": 1,
   "id": "2c1f8dac",
   "metadata": {},
   "outputs": [
    {
     "ename": "KeyboardInterrupt",
     "evalue": "Interrupted by user",
     "output_type": "error",
     "traceback": [
      "\u001b[1;31m---------------------------------------------------------------------------\u001b[0m",
      "\u001b[1;31mKeyboardInterrupt\u001b[0m                         Traceback (most recent call last)",
      "Cell \u001b[1;32mIn[1], line 7\u001b[0m\n\u001b[0;32m      4\u001b[0m     \u001b[38;5;28;01mreturn\u001b[39;00m longest_word\n\u001b[0;32m      6\u001b[0m \u001b[38;5;66;03m# Example usage:\u001b[39;00m\n\u001b[1;32m----> 7\u001b[0m user_sentence \u001b[38;5;241m=\u001b[39m \u001b[38;5;28minput\u001b[39m(\u001b[38;5;124m\"\u001b[39m\u001b[38;5;124mEnter a sentence: \u001b[39m\u001b[38;5;124m\"\u001b[39m)\n\u001b[0;32m      8\u001b[0m longest_word_result \u001b[38;5;241m=\u001b[39m find_longest_word(user_sentence)\n\u001b[0;32m     10\u001b[0m \u001b[38;5;28mprint\u001b[39m(\u001b[38;5;124mf\u001b[39m\u001b[38;5;124m\"\u001b[39m\u001b[38;5;124mThe longest word in the sentence is: \u001b[39m\u001b[38;5;132;01m{\u001b[39;00mlongest_word_result\u001b[38;5;132;01m}\u001b[39;00m\u001b[38;5;124m\"\u001b[39m)\n",
      "File \u001b[1;32mD:\\New folder\\Lib\\site-packages\\ipykernel\\kernelbase.py:1202\u001b[0m, in \u001b[0;36mKernel.raw_input\u001b[1;34m(self, prompt)\u001b[0m\n\u001b[0;32m   1200\u001b[0m     msg \u001b[38;5;241m=\u001b[39m \u001b[38;5;124m\"\u001b[39m\u001b[38;5;124mraw_input was called, but this frontend does not support input requests.\u001b[39m\u001b[38;5;124m\"\u001b[39m\n\u001b[0;32m   1201\u001b[0m     \u001b[38;5;28;01mraise\u001b[39;00m StdinNotImplementedError(msg)\n\u001b[1;32m-> 1202\u001b[0m \u001b[38;5;28;01mreturn\u001b[39;00m \u001b[38;5;28mself\u001b[39m\u001b[38;5;241m.\u001b[39m_input_request(\n\u001b[0;32m   1203\u001b[0m     \u001b[38;5;28mstr\u001b[39m(prompt),\n\u001b[0;32m   1204\u001b[0m     \u001b[38;5;28mself\u001b[39m\u001b[38;5;241m.\u001b[39m_parent_ident[\u001b[38;5;124m\"\u001b[39m\u001b[38;5;124mshell\u001b[39m\u001b[38;5;124m\"\u001b[39m],\n\u001b[0;32m   1205\u001b[0m     \u001b[38;5;28mself\u001b[39m\u001b[38;5;241m.\u001b[39mget_parent(\u001b[38;5;124m\"\u001b[39m\u001b[38;5;124mshell\u001b[39m\u001b[38;5;124m\"\u001b[39m),\n\u001b[0;32m   1206\u001b[0m     password\u001b[38;5;241m=\u001b[39m\u001b[38;5;28;01mFalse\u001b[39;00m,\n\u001b[0;32m   1207\u001b[0m )\n",
      "File \u001b[1;32mD:\\New folder\\Lib\\site-packages\\ipykernel\\kernelbase.py:1245\u001b[0m, in \u001b[0;36mKernel._input_request\u001b[1;34m(self, prompt, ident, parent, password)\u001b[0m\n\u001b[0;32m   1242\u001b[0m \u001b[38;5;28;01mexcept\u001b[39;00m \u001b[38;5;167;01mKeyboardInterrupt\u001b[39;00m:\n\u001b[0;32m   1243\u001b[0m     \u001b[38;5;66;03m# re-raise KeyboardInterrupt, to truncate traceback\u001b[39;00m\n\u001b[0;32m   1244\u001b[0m     msg \u001b[38;5;241m=\u001b[39m \u001b[38;5;124m\"\u001b[39m\u001b[38;5;124mInterrupted by user\u001b[39m\u001b[38;5;124m\"\u001b[39m\n\u001b[1;32m-> 1245\u001b[0m     \u001b[38;5;28;01mraise\u001b[39;00m \u001b[38;5;167;01mKeyboardInterrupt\u001b[39;00m(msg) \u001b[38;5;28;01mfrom\u001b[39;00m \u001b[38;5;28;01mNone\u001b[39;00m\n\u001b[0;32m   1246\u001b[0m \u001b[38;5;28;01mexcept\u001b[39;00m \u001b[38;5;167;01mException\u001b[39;00m:\n\u001b[0;32m   1247\u001b[0m     \u001b[38;5;28mself\u001b[39m\u001b[38;5;241m.\u001b[39mlog\u001b[38;5;241m.\u001b[39mwarning(\u001b[38;5;124m\"\u001b[39m\u001b[38;5;124mInvalid Message:\u001b[39m\u001b[38;5;124m\"\u001b[39m, exc_info\u001b[38;5;241m=\u001b[39m\u001b[38;5;28;01mTrue\u001b[39;00m)\n",
      "\u001b[1;31mKeyboardInterrupt\u001b[0m: Interrupted by user"
     ]
    }
   ],
   "source": [
    "def find_longest_word(sentence):\n",
    "    words = sentence.split()\n",
    "    longest_word = max(words, key=len)\n",
    "    return longest_word\n",
    "\n",
    "# Example usage:\n",
    "user_sentence = input(\"Enter a sentence: \")\n",
    "longest_word_result = find_longest_word(user_sentence)\n",
    "\n",
    "print(f\"The longest word in the sentence is: {longest_word_result}\")\n"
   ]
  },
  {
   "cell_type": "code",
   "execution_count": 1,
   "id": "710af9ea",
   "metadata": {},
   "outputs": [
    {
     "name": "stdout",
     "output_type": "stream",
     "text": [
      "Total sum of digits for numbers from 1 to 1000: 13501\n"
     ]
    }
   ],
   "source": [
    "# Function to calculate the sum of digits for a given number\n",
    "def sum_of_digits(number):\n",
    "    return sum(int(digit) for digit in str(number))\n",
    "\n",
    "# List comprehension to generate a list of numbers from 1 to 1000\n",
    "numbers = list(range(1, 1001))\n",
    "\n",
    "# List comprehension to calculate the sum of digits for each number\n",
    "sums_of_digits = [sum_of_digits(number) for number in numbers]\n",
    "\n",
    "# Calculate the total sum of all the calculated sums of digits\n",
    "total_sum = sum(sums_of_digits)\n",
    "\n",
    "print(\"Total sum of digits for numbers from 1 to 1000:\", total_sum)\n"
   ]
  },
  {
   "cell_type": "code",
   "execution_count": 2,
   "id": "18f0adba",
   "metadata": {},
   "outputs": [
    {
     "name": "stdout",
     "output_type": "stream",
     "text": [
      "Prime palindromic numbers: [2, 3, 5, 7, 11, 101, 131, 151, 181, 191, 313, 353, 373, 383, 727, 757, 787, 797, 919, 929]\n"
     ]
    }
   ],
   "source": [
    "# Function to check if a number is prime\n",
    "def is_prime(num):\n",
    "    if num < 2:\n",
    "        return False\n",
    "    for i in range(2, int(num**0.5) + 1):\n",
    "        if num % i == 0:\n",
    "            return False\n",
    "    return True\n",
    "\n",
    "# List comprehension to generate a list of prime palindromic numbers\n",
    "prime_palindromic_numbers = [num for num in range(1, 1000) if is_prime(num) and str(num) == str(num)[::-1]]\n",
    "\n",
    "print(\"Prime palindromic numbers:\", prime_palindromic_numbers)\n"
   ]
  },
  {
   "cell_type": "code",
   "execution_count": null,
   "id": "ed92c6f2",
   "metadata": {},
   "outputs": [],
   "source": []
  }
 ],
 "metadata": {
  "kernelspec": {
   "display_name": "Python 3 (ipykernel)",
   "language": "python",
   "name": "python3"
  },
  "language_info": {
   "codemirror_mode": {
    "name": "ipython",
    "version": 3
   },
   "file_extension": ".py",
   "mimetype": "text/x-python",
   "name": "python",
   "nbconvert_exporter": "python",
   "pygments_lexer": "ipython3",
   "version": "3.11.5"
  }
 },
 "nbformat": 4,
 "nbformat_minor": 5
}
